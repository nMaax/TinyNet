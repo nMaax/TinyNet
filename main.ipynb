{
 "cells": [
  {
   "cell_type": "code",
   "execution_count": 11,
   "metadata": {},
   "outputs": [],
   "source": [
    "import numpy as np\n",
    "from NN.TinyNet import TinyNet\n",
    "from NN.components import Value\n",
    "from sklearn.datasets import make_classification\n",
    "from sklearn.model_selection import train_test_split\n",
    "from sklearn.preprocessing import StandardScaler"
   ]
  },
  {
   "cell_type": "code",
   "execution_count": 12,
   "metadata": {},
   "outputs": [],
   "source": [
    "# Generate a random classification problem\n",
    "X, y = make_classification(n_samples=100, n_features=3, n_informative=2, n_redundant=0, random_state=42)\n",
    "\n",
    "# Split the dataset into training and testing sets\n",
    "X_train, X_test, y_train, y_test = train_test_split(X, y, test_size=0.2, random_state=42)\n",
    "\n",
    "# Standardize features by removing the mean and scaling to unit variance\n",
    "scaler = StandardScaler()\n",
    "X_train = scaler.fit_transform(X_train)\n",
    "X_test = scaler.transform(X_test)\n",
    "\n",
    "# Use the training data\n",
    "X = X_train\n",
    "y_true = y_train\n",
    "\n",
    "y_true = y_true.astype(float)\n",
    "y_true = Value.from_nparray(y_true)"
   ]
  },
  {
   "cell_type": "code",
   "execution_count": 13,
   "metadata": {},
   "outputs": [
    {
     "name": "stdout",
     "output_type": "stream",
     "text": [
      "Epoch 1, Loss: 32.14125282160039\n",
      "Epoch 2, Loss: 0.3528703368443893\n",
      "Epoch 3, Loss: 0.3464822952671147\n",
      "Epoch 4, Loss: 0.3415305264871462\n",
      "Epoch 5, Loss: 0.33688539975545617\n",
      "Epoch 6, Loss: 0.33240719959796783\n",
      "Epoch 7, Loss: 0.3280739212955915\n",
      "Epoch 8, Loss: 0.3238778178337689\n",
      "Epoch 9, Loss: 0.31981309655537776\n",
      "Epoch 10, Loss: 0.315874439311246\n"
     ]
    }
   ],
   "source": [
    "model = TinyNet(shape=[3, 5, 5, 5, 1])\n",
    "learning_rate = 0.01\n",
    "\n",
    "# Train the model\n",
    "for epoch in range(10):\n",
    "    model.backpropagation(X, y_true)\n",
    "    print(f\"Epoch {epoch + 1}, Loss:\", model.loss)\n",
    "    \n",
    "    params = model.get_parameters()\n",
    "    grads = model.get_parameters_grads()\n",
    "    new_params = params - learning_rate * grads\n",
    "    model.set_parameters(new_params)"
   ]
  },
  {
   "cell_type": "code",
   "execution_count": null,
   "metadata": {},
   "outputs": [],
   "source": [
    "# Use the test data\n",
    "X = X_test\n",
    "y_true = y_test\n",
    "\n",
    "y_true = y_true.astype(float)\n",
    "y_true = Value.from_nparray(y_true)\n",
    "\n",
    "# Evaluate the model\n",
    "model.forward(X)\n",
    "predictions = model.output\n",
    "loss = Value.MSE(predictions, y_true)\n",
    "\n",
    "print(\"Test Loss:\", loss)"
   ]
  }
 ],
 "metadata": {
  "kernelspec": {
   "display_name": "data_science_env",
   "language": "python",
   "name": "python3"
  },
  "language_info": {
   "codemirror_mode": {
    "name": "ipython",
    "version": 3
   },
   "file_extension": ".py",
   "mimetype": "text/x-python",
   "name": "python",
   "nbconvert_exporter": "python",
   "pygments_lexer": "ipython3",
   "version": "3.11.11"
  }
 },
 "nbformat": 4,
 "nbformat_minor": 2
}
