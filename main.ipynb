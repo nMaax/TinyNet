{
 "cells": [
  {
   "cell_type": "code",
   "execution_count": 1,
   "metadata": {},
   "outputs": [],
   "source": [
    "import numpy as np"
   ]
  },
  {
   "cell_type": "code",
   "execution_count": 2,
   "metadata": {},
   "outputs": [],
   "source": [
    "class Value:\n",
    "    def __init__(self, data, prev=(), op=None):\n",
    "        self.data = data\n",
    "        self._prev = prev\n",
    "        self._op = op\n",
    "        self.grad = 0.0\n",
    "\n",
    "    def __repr__(self):\n",
    "        return f\"Value(data={self.data})\"\n",
    "\n",
    "    def __str__(self,):\n",
    "        return f\"{self.data}\"\n",
    "    \n",
    "    def __add__(self, other):\n",
    "        if isinstance(other, (int, float)):\n",
    "            other = Value(other)\n",
    "        return Value(self.data + other.data, prev=(self, other), op='+')\n",
    "    \n",
    "    def __radd__(self, other):\n",
    "        return self.__add__(other)\n",
    "\n",
    "    def __mul__(self, other):\n",
    "        if isinstance(other, (int, float)):\n",
    "            other = Value(other)\n",
    "        return Value(self.data * other.data, prev=(self, other), op='*')\n",
    "        \n",
    "    def __rmul__(self, other):\n",
    "        return self.__mul__(other)\n",
    "    \n",
    "    def __gt__(self, other):\n",
    "        if isinstance(other, (int, float)):\n",
    "            other = Value(other)\n",
    "        return self.data > other.data\n",
    "\n",
    "    def ReLu(self,):\n",
    "        return Value(max(0, self.data), prev=(self,), op='ReLu')\n",
    "\n",
    "    @staticmethod\n",
    "    def backpropagation(y):\n",
    "        y.grad = 1\n",
    "        Value._propagate(y)\n",
    "\n",
    "    @staticmethod\n",
    "    def _propagate(y):\n",
    "        prev = y._prev\n",
    "\n",
    "        if prev is None:\n",
    "            return\n",
    "        \n",
    "        if len(prev) == 1:\n",
    "            p = prev[0]\n",
    "            if y._op == 'ReLu':\n",
    "                dp = 1 if p > 0 else 0\n",
    "                p.grad += y.grad * dp\n",
    "                Value._propagate(p)\n",
    "        \n",
    "        if len(prev) == 2:\n",
    "            p1, p2 = prev[0], prev[1]\n",
    "            if y._op == '+':\n",
    "                dp1 = 1\n",
    "                dp2 = 1\n",
    "            if y._op == '*':\n",
    "                dp1 = p2.data\n",
    "                dp2 = p1.data \n",
    "            p1.grad += y.grad * dp1\n",
    "            p2.grad += y.grad * dp2\n",
    "            Value._propagate(p1)\n",
    "            Value._propagate(p2)"
   ]
  },
  {
   "cell_type": "code",
   "execution_count": 3,
   "metadata": {},
   "outputs": [],
   "source": [
    "a = Value(4)\n",
    "b = Value(2)\n",
    "\n",
    "c = 5 + a\n",
    "d = 2 + b\n",
    "e = c * d\n",
    "f = b * e\n",
    "g = f * a\n",
    "h = 3 * g"
   ]
  },
  {
   "cell_type": "code",
   "execution_count": 4,
   "metadata": {},
   "outputs": [],
   "source": [
    "Value.backpropagation(h)"
   ]
  },
  {
   "cell_type": "code",
   "execution_count": 5,
   "metadata": {},
   "outputs": [
    {
     "data": {
      "text/plain": [
       "312.0"
      ]
     },
     "execution_count": 5,
     "metadata": {},
     "output_type": "execute_result"
    }
   ],
   "source": [
    "a.grad"
   ]
  },
  {
   "cell_type": "code",
   "execution_count": 6,
   "metadata": {},
   "outputs": [],
   "source": [
    "class Neuron:\n",
    "    def __init__(self, weights, bias):\n",
    "        self.weights = [Value(weight) for weight in weights]\n",
    "        self.bias = Value(bias)\n",
    "\n",
    "    def forward(self, x):\n",
    "        if isinstance(x, list):\n",
    "            x = np.array(x)\n",
    "        return (x @ self.weights + self.bias).ReLu()"
   ]
  },
  {
   "cell_type": "code",
   "execution_count": 7,
   "metadata": {},
   "outputs": [],
   "source": [
    "class Layer:\n",
    "    def __init__(self, neurons):\n",
    "        self.neurons = neurons\n",
    "\n",
    "    def forward(self, x):\n",
    "        if isinstance(x, list):\n",
    "            x = np.array(x)\n",
    "        return np.array([n.forward(x) for n in self.neurons])"
   ]
  },
  {
   "cell_type": "code",
   "execution_count": 8,
   "metadata": {},
   "outputs": [],
   "source": [
    "class MLP:\n",
    "    def __init__(self, layers):\n",
    "        self.layers = layers\n",
    "    \n",
    "    def forward(self, x):\n",
    "        if isinstance(x, list):\n",
    "            x = np.array(x)\n",
    "        for l in self.layers:\n",
    "            x = l.forward(x)\n",
    "        return x"
   ]
  },
  {
   "cell_type": "code",
   "execution_count": 9,
   "metadata": {},
   "outputs": [],
   "source": [
    "n1 = Neuron([0.3, 0.2, 0.5], 1.2)\n",
    "n2 = Neuron([0.4, 0.1, 0.6], 0.2)\n",
    "n3 = Neuron([0.6, 0.2, 0.5], -1.0)"
   ]
  },
  {
   "cell_type": "code",
   "execution_count": 10,
   "metadata": {},
   "outputs": [],
   "source": [
    "l1 = Layer([n1, n2, n3])"
   ]
  },
  {
   "cell_type": "code",
   "execution_count": 11,
   "metadata": {},
   "outputs": [],
   "source": [
    "n4 = Neuron([0.3, 0.3, 0.4], 0.0)\n",
    "n5 = Neuron([0.1, 0.2, 0.8], 0.3)\n",
    "n6 = Neuron([0.5, 0.1, 0.5], -1.8)"
   ]
  },
  {
   "cell_type": "code",
   "execution_count": 12,
   "metadata": {},
   "outputs": [],
   "source": [
    "l2 = Layer([n4, n5])"
   ]
  },
  {
   "cell_type": "code",
   "execution_count": 13,
   "metadata": {},
   "outputs": [],
   "source": [
    "mlp = MLP([l1, l2, Layer([Neuron([1.3, 3.3], 0.1)])])"
   ]
  },
  {
   "cell_type": "code",
   "execution_count": 14,
   "metadata": {},
   "outputs": [],
   "source": [
    "x = [1.2, 6.8, 0.3]"
   ]
  },
  {
   "cell_type": "code",
   "execution_count": 15,
   "metadata": {},
   "outputs": [
    {
     "data": {
      "text/plain": [
       "array([Value(data=8.8042)], dtype=object)"
      ]
     },
     "execution_count": 15,
     "metadata": {},
     "output_type": "execute_result"
    }
   ],
   "source": [
    "mlp.forward(x)"
   ]
  }
 ],
 "metadata": {
  "kernelspec": {
   "display_name": "data_science_env",
   "language": "python",
   "name": "python3"
  },
  "language_info": {
   "codemirror_mode": {
    "name": "ipython",
    "version": 3
   },
   "file_extension": ".py",
   "mimetype": "text/x-python",
   "name": "python",
   "nbconvert_exporter": "python",
   "pygments_lexer": "ipython3",
   "version": "3.11.11"
  }
 },
 "nbformat": 4,
 "nbformat_minor": 2
}
